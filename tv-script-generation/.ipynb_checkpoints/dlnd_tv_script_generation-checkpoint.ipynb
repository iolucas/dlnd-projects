{
 "cells": [
  {
   "cell_type": "markdown",
   "metadata": {},
   "source": [
    "# TV Script Generation\n",
    "In this project, you'll generate your own [Simpsons](https://en.wikipedia.org/wiki/The_Simpsons) TV scripts using RNNs.  You'll be using part of the [Simpsons dataset](https://www.kaggle.com/wcukierski/the-simpsons-by-the-data) of scripts from 27 seasons.  The Neural Network you'll build will generate a new TV script for a scene at [Moe's Tavern](https://simpsonswiki.com/wiki/Moe's_Tavern).\n",
    "## Get the Data\n",
    "The data is already provided for you.  You'll be using a subset of the original dataset.  It consists of only the scenes in Moe's Tavern.  This doesn't include other versions of the tavern, like \"Moe's Cavern\", \"Flaming Moe's\", \"Uncle Moe's Family Feed-Bag\", etc.."
   ]
  },
  {
   "cell_type": "code",
   "execution_count": 1,
   "metadata": {
    "collapsed": true
   },
   "outputs": [],
   "source": [
    "\"\"\"\n",
    "DON'T MODIFY ANYTHING IN THIS CELL\n",
    "\"\"\"\n",
    "import helper\n",
    "\n",
    "data_dir = './data/simpsons/moes_tavern_lines.txt'\n",
    "text = helper.load_data(data_dir)\n",
    "# Ignore notice, since we don't use it for analysing the data\n",
    "text = text[81:]"
   ]
  },
  {
   "cell_type": "markdown",
   "metadata": {},
   "source": [
    "## Explore the Data\n",
    "Play around with `view_sentence_range` to view different parts of the data."
   ]
  },
  {
   "cell_type": "code",
   "execution_count": 2,
   "metadata": {},
   "outputs": [
    {
     "name": "stdout",
     "output_type": "stream",
     "text": [
      "Dataset Stats\n",
      "Roughly the number of unique words: 11492\n",
      "Number of scenes: 262\n",
      "Average number of sentences in each scene: 15.251908396946565\n",
      "Number of lines: 4258\n",
      "Average number of words in each line: 11.50164396430249\n",
      "\n",
      "The sentences 0 to 10:\n",
      "\n",
      "Moe_Szyslak: (INTO PHONE) Moe's Tavern. Where the elite meet to drink.\n",
      "Bart_Simpson: Eh, yeah, hello, is Mike there? Last name, Rotch.\n",
      "Moe_Szyslak: (INTO PHONE) Hold on, I'll check. (TO BARFLIES) Mike Rotch. Mike Rotch. Hey, has anybody seen Mike Rotch, lately?\n",
      "Moe_Szyslak: (INTO PHONE) Listen you little puke. One of these days I'm gonna catch you, and I'm gonna carve my name on your back with an ice pick.\n",
      "Moe_Szyslak: What's the matter Homer? You're not your normal effervescent self.\n",
      "Homer_Simpson: I got my problems, Moe. Give me another one.\n",
      "Moe_Szyslak: Homer, hey, you should not drink to forget your problems.\n",
      "Barney_Gumble: Yeah, you should only drink to enhance your social skills.\n",
      "\n"
     ]
    }
   ],
   "source": [
    "view_sentence_range = (0, 10)\n",
    "\n",
    "\"\"\"\n",
    "DON'T MODIFY ANYTHING IN THIS CELL\n",
    "\"\"\"\n",
    "import numpy as np\n",
    "\n",
    "print('Dataset Stats')\n",
    "print('Roughly the number of unique words: {}'.format(len({word: None for word in text.split()})))\n",
    "scenes = text.split('\\n\\n')\n",
    "print('Number of scenes: {}'.format(len(scenes)))\n",
    "sentence_count_scene = [scene.count('\\n') for scene in scenes]\n",
    "print('Average number of sentences in each scene: {}'.format(np.average(sentence_count_scene)))\n",
    "\n",
    "sentences = [sentence for scene in scenes for sentence in scene.split('\\n')]\n",
    "print('Number of lines: {}'.format(len(sentences)))\n",
    "word_count_sentence = [len(sentence.split()) for sentence in sentences]\n",
    "print('Average number of words in each line: {}'.format(np.average(word_count_sentence)))\n",
    "\n",
    "print()\n",
    "print('The sentences {} to {}:'.format(*view_sentence_range))\n",
    "print('\\n'.join(text.split('\\n')[view_sentence_range[0]:view_sentence_range[1]]))"
   ]
  },
  {
   "cell_type": "markdown",
   "metadata": {},
   "source": [
    "## Implement Preprocessing Functions\n",
    "The first thing to do to any dataset is preprocessing.  Implement the following preprocessing functions below:\n",
    "- Lookup Table\n",
    "- Tokenize Punctuation\n",
    "\n",
    "### Lookup Table\n",
    "To create a word embedding, you first need to transform the words to ids.  In this function, create two dictionaries:\n",
    "- Dictionary to go from the words to an id, we'll call `vocab_to_int`\n",
    "- Dictionary to go from the id to word, we'll call `int_to_vocab`\n",
    "\n",
    "Return these dictionaries in the following tuple `(vocab_to_int, int_to_vocab)`"
   ]
  },
  {
   "cell_type": "code",
   "execution_count": 3,
   "metadata": {},
   "outputs": [
    {
     "name": "stdout",
     "output_type": "stream",
     "text": [
      "Tests Passed\n"
     ]
    }
   ],
   "source": [
    "import numpy as np\n",
    "import problem_unittests as tests\n",
    "\n",
    "def create_lookup_tables(text):\n",
    "    \"\"\"\n",
    "    Create lookup tables for vocabulary\n",
    "    :param text: The text of tv scripts split into words\n",
    "    :return: A tuple of dicts (vocab_to_int, int_to_vocab)\n",
    "    \"\"\"\n",
    "    # TODO: Implement Function\n",
    "    \n",
    "    #Ensure there is only single words in the vocab\n",
    "    text = list(set(text))\n",
    "    \n",
    "    vocab_to_int = {w:i for i,w in enumerate(text)}\n",
    "    int_to_vocab = {i:w for w,i in vocab_to_int.items()}\n",
    "    \n",
    "    return vocab_to_int, int_to_vocab\n",
    "\n",
    "\n",
    "\"\"\"\n",
    "DON'T MODIFY ANYTHING IN THIS CELL THAT IS BELOW THIS LINE\n",
    "\"\"\"\n",
    "tests.test_create_lookup_tables(create_lookup_tables)"
   ]
  },
  {
   "cell_type": "markdown",
   "metadata": {},
   "source": [
    "### Tokenize Punctuation\n",
    "We'll be splitting the script into a word array using spaces as delimiters.  However, punctuations like periods and exclamation marks make it hard for the neural network to distinguish between the word \"bye\" and \"bye!\".\n",
    "\n",
    "Implement the function `token_lookup` to return a dict that will be used to tokenize symbols like \"!\" into \"||Exclamation_Mark||\".  Create a dictionary for the following symbols where the symbol is the key and value is the token:\n",
    "- Period ( . )\n",
    "- Comma ( , )\n",
    "- Quotation Mark ( \" )\n",
    "- Semicolon ( ; )\n",
    "- Exclamation mark ( ! )\n",
    "- Question mark ( ? )\n",
    "- Left Parentheses ( ( )\n",
    "- Right Parentheses ( ) )\n",
    "- Dash ( -- )\n",
    "- Return ( \\n )\n",
    "\n",
    "This dictionary will be used to token the symbols and add the delimiter (space) around it.  This separates the symbols as it's own word, making it easier for the neural network to predict on the next word. Make sure you don't use a token that could be confused as a word. Instead of using the token \"dash\", try using something like \"||dash||\"."
   ]
  },
  {
   "cell_type": "code",
   "execution_count": 4,
   "metadata": {},
   "outputs": [
    {
     "name": "stdout",
     "output_type": "stream",
     "text": [
      "Tests Passed\n"
     ]
    }
   ],
   "source": [
    "def token_lookup():\n",
    "    \"\"\"\n",
    "    Generate a dict to turn punctuation into a token.\n",
    "    :return: Tokenize dictionary where the key is the punctuation and the value is the token\n",
    "    \"\"\"\n",
    "    # TODO: Implement Function\n",
    "    return {\n",
    "        \".\": \"||Period||\",\n",
    "        \",\": \"||Comma||\", \n",
    "        '\"': \"||Quotation_Mark||\", \n",
    "        \";\": \"||Semicolon||\", \n",
    "        \"!\": \"||Exclamation_mark||\", \n",
    "        \"?\": \"||Question_mark||\", \n",
    "        \"(\": \"||Left_Parentheses||\", \n",
    "        \")\": \"||Right_Parentheses||\", \n",
    "        \"--\": \"||Dash||\",\n",
    "        \"\\n\": \"||Return||\"\n",
    "    }\n",
    "\n",
    "\"\"\"\n",
    "DON'T MODIFY ANYTHING IN THIS CELL THAT IS BELOW THIS LINE\n",
    "\"\"\"\n",
    "tests.test_tokenize(token_lookup)"
   ]
  },
  {
   "cell_type": "markdown",
   "metadata": {},
   "source": [
    "## Preprocess all the data and save it\n",
    "Running the code cell below will preprocess all the data and save it to file."
   ]
  },
  {
   "cell_type": "code",
   "execution_count": 5,
   "metadata": {
    "collapsed": true
   },
   "outputs": [],
   "source": [
    "\"\"\"\n",
    "DON'T MODIFY ANYTHING IN THIS CELL\n",
    "\"\"\"\n",
    "# Preprocess Training, Validation, and Testing Data\n",
    "helper.preprocess_and_save_data(data_dir, token_lookup, create_lookup_tables)"
   ]
  },
  {
   "cell_type": "markdown",
   "metadata": {},
   "source": [
    "# Check Point\n",
    "This is your first checkpoint. If you ever decide to come back to this notebook or have to restart the notebook, you can start from here. The preprocessed data has been saved to disk."
   ]
  },
  {
   "cell_type": "code",
   "execution_count": 6,
   "metadata": {
    "collapsed": true
   },
   "outputs": [],
   "source": [
    "\"\"\"\n",
    "DON'T MODIFY ANYTHING IN THIS CELL\n",
    "\"\"\"\n",
    "import helper\n",
    "import numpy as np\n",
    "import problem_unittests as tests\n",
    "\n",
    "int_text, vocab_to_int, int_to_vocab, token_dict = helper.load_preprocess()"
   ]
  },
  {
   "cell_type": "markdown",
   "metadata": {},
   "source": [
    "## Build the Neural Network\n",
    "You'll build the components necessary to build a RNN by implementing the following functions below:\n",
    "- get_inputs\n",
    "- get_init_cell\n",
    "- get_embed\n",
    "- build_rnn\n",
    "- build_nn\n",
    "- get_batches\n",
    "\n",
    "### Check the Version of TensorFlow and Access to GPU"
   ]
  },
  {
   "cell_type": "code",
   "execution_count": 7,
   "metadata": {},
   "outputs": [
    {
     "name": "stdout",
     "output_type": "stream",
     "text": [
      "TensorFlow Version: 1.0.1\n"
     ]
    },
    {
     "name": "stderr",
     "output_type": "stream",
     "text": [
      "C:\\Users\\du0x\\Anaconda2\\envs\\tf\\lib\\site-packages\\ipykernel_launcher.py:14: UserWarning: No GPU found. Please use a GPU to train your neural network.\n",
      "  \n"
     ]
    }
   ],
   "source": [
    "\"\"\"\n",
    "DON'T MODIFY ANYTHING IN THIS CELL\n",
    "\"\"\"\n",
    "from distutils.version import LooseVersion\n",
    "import warnings\n",
    "import tensorflow as tf\n",
    "\n",
    "# Check TensorFlow Version\n",
    "assert LooseVersion(tf.__version__) >= LooseVersion('1.0'), 'Please use TensorFlow version 1.0 or newer'\n",
    "print('TensorFlow Version: {}'.format(tf.__version__))\n",
    "\n",
    "# Check for a GPU\n",
    "if not tf.test.gpu_device_name():\n",
    "    warnings.warn('No GPU found. Please use a GPU to train your neural network.')\n",
    "else:\n",
    "    print('Default GPU Device: {}'.format(tf.test.gpu_device_name()))"
   ]
  },
  {
   "cell_type": "markdown",
   "metadata": {},
   "source": [
    "### Input\n",
    "Implement the `get_inputs()` function to create TF Placeholders for the Neural Network.  It should create the following placeholders:\n",
    "- Input text placeholder named \"input\" using the [TF Placeholder](https://www.tensorflow.org/api_docs/python/tf/placeholder) `name` parameter.\n",
    "- Targets placeholder\n",
    "- Learning Rate placeholder\n",
    "\n",
    "Return the placeholders in the following tuple `(Input, Targets, LearningRate)`"
   ]
  },
  {
   "cell_type": "code",
   "execution_count": 35,
   "metadata": {},
   "outputs": [
    {
     "name": "stdout",
     "output_type": "stream",
     "text": [
      "Tests Passed\n"
     ]
    }
   ],
   "source": [
    "def get_inputs():\n",
    "    \"\"\"\n",
    "    Create TF Placeholders for input, targets, and learning rate.\n",
    "    :return: Tuple (input, targets, learning rate)\n",
    "    \"\"\"\n",
    "    \n",
    "    inputs = tf.placeholder(dtype=tf.int32, shape=[None, None], name=\"input\")\n",
    "    targets = tf.placeholder(dtype=tf.int32, shape=[None, None])\n",
    "    learning_rate = tf.placeholder(dtype=tf.float32)\n",
    "    \n",
    "    # TODO: Implement Function\n",
    "    return inputs, targets, learning_rate\n",
    "\n",
    "\n",
    "\"\"\"\n",
    "DON'T MODIFY ANYTHING IN THIS CELL THAT IS BELOW THIS LINE\n",
    "\"\"\"\n",
    "tests.test_get_inputs(get_inputs)"
   ]
  },
  {
   "cell_type": "markdown",
   "metadata": {},
   "source": [
    "### Build RNN Cell and Initialize\n",
    "Stack one or more [`BasicLSTMCells`](https://www.tensorflow.org/api_docs/python/tf/contrib/rnn/BasicLSTMCell) in a [`MultiRNNCell`](https://www.tensorflow.org/api_docs/python/tf/contrib/rnn/MultiRNNCell).\n",
    "- The Rnn size should be set using `rnn_size`\n",
    "- Initalize Cell State using the MultiRNNCell's [`zero_state()`](https://www.tensorflow.org/api_docs/python/tf/contrib/rnn/MultiRNNCell#zero_state) function\n",
    "    - Apply the name \"initial_state\" to the initial state using [`tf.identity()`](https://www.tensorflow.org/api_docs/python/tf/identity)\n",
    "\n",
    "Return the cell and initial state in the following tuple `(Cell, InitialState)`"
   ]
  },
  {
   "cell_type": "code",
   "execution_count": 9,
   "metadata": {},
   "outputs": [
    {
     "name": "stdout",
     "output_type": "stream",
     "text": [
      "Tests Passed\n"
     ]
    }
   ],
   "source": [
    "def get_init_cell(batch_size, rnn_size):\n",
    "    \"\"\"\n",
    "    Create an RNN Cell and initialize it.\n",
    "    :param batch_size: Size of batches\n",
    "    :param rnn_size: Size of RNNs\n",
    "    :return: Tuple (cell, initialize state)\n",
    "    \"\"\"\n",
    "    # TODO: Implement Function\n",
    "    lstm = tf.contrib.rnn.BasicLSTMCell(rnn_size)\n",
    "    lstm_stack = tf.contrib.rnn.MultiRNNCell([lstm]*1)\n",
    "    initial_state = lstm_stack.zero_state(batch_size, tf.float32)\n",
    "    initial_state = tf.identity(initial_state, name=\"initial_state\")\n",
    "    \n",
    "    return lstm_stack, initial_state\n",
    "\n",
    "\n",
    "\"\"\"\n",
    "DON'T MODIFY ANYTHING IN THIS CELL THAT IS BELOW THIS LINE\n",
    "\"\"\"\n",
    "tests.test_get_init_cell(get_init_cell)"
   ]
  },
  {
   "cell_type": "markdown",
   "metadata": {},
   "source": [
    "### Word Embedding\n",
    "Apply embedding to `input_data` using TensorFlow.  Return the embedded sequence."
   ]
  },
  {
   "cell_type": "code",
   "execution_count": 10,
   "metadata": {},
   "outputs": [
    {
     "name": "stdout",
     "output_type": "stream",
     "text": [
      "Tests Passed\n"
     ]
    }
   ],
   "source": [
    "def get_embed(input_data, vocab_size, embed_dim):\n",
    "    \"\"\"\n",
    "    Create embedding for <input_data>.\n",
    "    :param input_data: TF placeholder for text input.\n",
    "    :param vocab_size: Number of words in vocabulary.\n",
    "    :param embed_dim: Number of embedding dimensions\n",
    "    :return: Embedded input.\n",
    "    \"\"\"\n",
    "    # TODO: Implement Function\n",
    "    embedding = tf.Variable(tf.truncated_normal(dtype=tf.float32, shape=[vocab_size, embed_dim]))\n",
    "    embed = tf.nn.embedding_lookup(embedding, input_data)\n",
    "    \n",
    "    return embed\n",
    "\n",
    "\n",
    "\"\"\"\n",
    "DON'T MODIFY ANYTHING IN THIS CELL THAT IS BELOW THIS LINE\n",
    "\"\"\"\n",
    "tests.test_get_embed(get_embed)"
   ]
  },
  {
   "cell_type": "markdown",
   "metadata": {},
   "source": [
    "### Build RNN\n",
    "You created a RNN Cell in the `get_init_cell()` function.  Time to use the cell to create a RNN.\n",
    "- Build the RNN using the [`tf.nn.dynamic_rnn()`](https://www.tensorflow.org/api_docs/python/tf/nn/dynamic_rnn)\n",
    " - Apply the name \"final_state\" to the final state using [`tf.identity()`](https://www.tensorflow.org/api_docs/python/tf/identity)\n",
    "\n",
    "Return the outputs and final_state state in the following tuple `(Outputs, FinalState)` "
   ]
  },
  {
   "cell_type": "code",
   "execution_count": 11,
   "metadata": {},
   "outputs": [
    {
     "name": "stdout",
     "output_type": "stream",
     "text": [
      "Tests Passed\n"
     ]
    }
   ],
   "source": [
    "def build_rnn(cell, inputs):\n",
    "    \"\"\"\n",
    "    Create a RNN using a RNN Cell\n",
    "    :param cell: RNN Cell\n",
    "    :param inputs: Input text data\n",
    "    :return: Tuple (Outputs, Final State)\n",
    "    \"\"\"\n",
    "    # TODO: Implement Function\n",
    "    outputs, final_state = tf.nn.dynamic_rnn(cell, inputs, dtype=tf.float32)\n",
    "    final_state = tf.identity(final_state, \"final_state\")\n",
    "    \n",
    "    return outputs, final_state\n",
    "\n",
    "\n",
    "\"\"\"\n",
    "DON'T MODIFY ANYTHING IN THIS CELL THAT IS BELOW THIS LINE\n",
    "\"\"\"\n",
    "tests.test_build_rnn(build_rnn)"
   ]
  },
  {
   "cell_type": "markdown",
   "metadata": {},
   "source": [
    "### Build the Neural Network\n",
    "Apply the functions you implemented above to:\n",
    "- Apply embedding to `input_data` using your `get_embed(input_data, vocab_size, embed_dim)` function.\n",
    "- Build RNN using `cell` and your `build_rnn(cell, inputs)` function.\n",
    "- Apply a fully connected layer with a linear activation and `vocab_size` as the number of outputs.\n",
    "\n",
    "Return the logits and final state in the following tuple (Logits, FinalState) "
   ]
  },
  {
   "cell_type": "code",
   "execution_count": 12,
   "metadata": {},
   "outputs": [
    {
     "name": "stdout",
     "output_type": "stream",
     "text": [
      "Tests Passed\n"
     ]
    }
   ],
   "source": [
    "def build_nn(cell, rnn_size, input_data, vocab_size, embed_dim):\n",
    "    \"\"\"\n",
    "    Build part of the neural network\n",
    "    :param cell: RNN cell\n",
    "    :param rnn_size: Size of rnns\n",
    "    :param input_data: Input data\n",
    "    :param vocab_size: Vocabulary size\n",
    "    :param embed_dim: Number of embedding dimensions\n",
    "    :return: Tuple (Logits, FinalState)\n",
    "    \"\"\"\n",
    "    # TODO: Implement Function \n",
    "    embed = get_embed(input_data, vocab_size, embed_dim)\n",
    "    rnn_out, final_state = build_rnn(cell, embed)\n",
    "    logits = tf.contrib.layers.fully_connected(rnn_out, vocab_size, None)\n",
    "    \n",
    "    \n",
    "    return logits, final_state\n",
    "\n",
    "\n",
    "\"\"\"\n",
    "DON'T MODIFY ANYTHING IN THIS CELL THAT IS BELOW THIS LINE\n",
    "\"\"\"\n",
    "tests.test_build_nn(build_nn)"
   ]
  },
  {
   "cell_type": "markdown",
   "metadata": {},
   "source": [
    "### Batches\n",
    "Implement `get_batches` to create batches of input and targets using `int_text`.  The batches should be a Numpy array with the shape `(number of batches, 2, batch size, sequence length)`. Each batch contains two elements:\n",
    "- The first element is a single batch of **input** with the shape `[batch size, sequence length]`\n",
    "- The second element is a single batch of **targets** with the shape `[batch size, sequence length]`\n",
    "\n",
    "If you can't fill the last batch with enough data, drop the last batch.\n",
    "\n",
    "For exmple, `get_batches([1, 2, 3, 4, 5, 6, 7, 8, 9, 10, 11, 12, 13, 14, 15, 16, 17, 18, 19, 20], 3, 2)` would return a Numpy array of the following:\n",
    "```\n",
    "[\n",
    "  # First Batch\n",
    "  [\n",
    "    # Batch of Input\n",
    "    [[ 1  2], [ 7  8], [13 14]]\n",
    "    # Batch of targets\n",
    "    [[ 2  3], [ 8  9], [14 15]]\n",
    "  ]\n",
    "\n",
    "  # Second Batch\n",
    "  [\n",
    "    # Batch of Input\n",
    "    [[ 3  4], [ 9 10], [15 16]]\n",
    "    # Batch of targets\n",
    "    [[ 4  5], [10 11], [16 17]]\n",
    "  ]\n",
    "\n",
    "  # Third Batch\n",
    "  [\n",
    "    # Batch of Input\n",
    "    [[ 5  6], [11 12], [17 18]]\n",
    "    # Batch of targets\n",
    "    [[ 6  7], [12 13], [18  1]]\n",
    "  ]\n",
    "]\n",
    "```\n",
    "\n",
    "Notice that the last target value in the last batch is the first input value of the first batch. In this case, `1`. This is a common technique used when creating sequence batches, although it is rather unintuitive."
   ]
  },
  {
   "cell_type": "code",
   "execution_count": 13,
   "metadata": {},
   "outputs": [
    {
     "name": "stdout",
     "output_type": "stream",
     "text": [
      "Tests Passed\n"
     ]
    }
   ],
   "source": [
    "def get_batches(int_text, batch_size, seq_length):\n",
    "    \"\"\"\n",
    "    Return batches of input and target\n",
    "    :param int_text: Text with the words replaced by their ids\n",
    "    :param batch_size: The size of batch\n",
    "    :param seq_length: The length of sequence\n",
    "    :return: Batches as a Numpy array\n",
    "    \"\"\"\n",
    "    # TODO: Implement Function\n",
    "    \n",
    "    #Ensures length of the train data fits batches size and sequence length\n",
    "    fit_length = len(int_text)//batch_size//seq_length\n",
    "    fit_length *= batch_size * seq_length\n",
    "    int_text = int_text[:fit_length]\n",
    "    \n",
    "    #Reshape to batch_size rows\n",
    "    x_seqs = np.array(int_text).reshape((batch_size, -1))\n",
    "    y_seqs = np.roll(x_seqs, -1) #Roll array to set target as the next element\n",
    "    \n",
    "    batch_list = list()\n",
    "    \n",
    "    for i in range(0, x_seqs.shape[1], seq_length):\n",
    "        x_batch = x_seqs[:, i:i+seq_length]        \n",
    "        y_batch = y_seqs[:, i:i+seq_length]\n",
    "        \n",
    "        batch_list.append([x_batch, y_batch])\n",
    "        \n",
    "    batch_list = np.array(batch_list)\n",
    "    \n",
    "    return batch_list\n",
    "\n",
    "\n",
    "\"\"\"\n",
    "DON'T MODIFY ANYTHING IN THIS CELL THAT IS BELOW THIS LINE\n",
    "\"\"\"\n",
    "tests.test_get_batches(get_batches)"
   ]
  },
  {
   "cell_type": "markdown",
   "metadata": {},
   "source": [
    "## Neural Network Training\n",
    "### Hyperparameters\n",
    "Tune the following parameters:\n",
    "\n",
    "- Set `num_epochs` to the number of epochs.\n",
    "- Set `batch_size` to the batch size.\n",
    "- Set `rnn_size` to the size of the RNNs.\n",
    "- Set `embed_dim` to the size of the embedding.\n",
    "- Set `seq_length` to the length of sequence.\n",
    "- Set `learning_rate` to the learning rate.\n",
    "- Set `show_every_n_batches` to the number of batches the neural network should print progress."
   ]
  },
  {
   "cell_type": "code",
   "execution_count": 14,
   "metadata": {
    "collapsed": true
   },
   "outputs": [],
   "source": [
    "# Number of Epochs\n",
    "num_epochs = 1\n",
    "# Batch Size\n",
    "batch_size = 20\n",
    "# RNN Size\n",
    "rnn_size = 1\n",
    "# Embedding Dimension Size\n",
    "embed_dim = 200\n",
    "# Sequence Length\n",
    "seq_length = 1\n",
    "# Learning Rate\n",
    "learning_rate = 0.001\n",
    "# Show stats for every n number of batches\n",
    "show_every_n_batches = 1\n",
    "\n",
    "\"\"\"\n",
    "DON'T MODIFY ANYTHING IN THIS CELL THAT IS BELOW THIS LINE\n",
    "\"\"\"\n",
    "save_dir = './save'"
   ]
  },
  {
   "cell_type": "markdown",
   "metadata": {},
   "source": [
    "### Build the Graph\n",
    "Build the graph using the neural network you implemented."
   ]
  },
  {
   "cell_type": "code",
   "execution_count": 25,
   "metadata": {},
   "outputs": [],
   "source": [
    "\"\"\"\n",
    "DON'T MODIFY ANYTHING IN THIS CELL\n",
    "\"\"\"\n",
    "from tensorflow.contrib import seq2seq\n",
    "\n",
    "train_graph = tf.Graph()\n",
    "with train_graph.as_default():\n",
    "    vocab_size = len(int_to_vocab)\n",
    "    input_text, targets, lr = get_inputs()\n",
    "    input_data_shape = tf.shape(input_text)\n",
    "    cell, initial_state = get_init_cell(input_data_shape[0], rnn_size)\n",
    "    logits, final_state = build_nn(cell, rnn_size, input_text, vocab_size, embed_dim)\n",
    "    \n",
    "    # Probabilities for generating words\n",
    "    probs = tf.nn.softmax(logits, name='probs')\n",
    "\n",
    "    # Loss function\n",
    "    cost = seq2seq.sequence_loss(\n",
    "        logits,\n",
    "        targets,\n",
    "        tf.ones([input_data_shape[0], input_data_shape[1]]))\n",
    "\n",
    "    # Optimizer\n",
    "    optimizer = tf.train.AdamOptimizer(lr)\n",
    "\n",
    "    # Gradient Clipping\n",
    "    gradients = optimizer.compute_gradients(cost)\n",
    "    capped_gradients = [(tf.clip_by_value(grad, -1., 1.), var) for grad, var in gradients if grad is not None]\n",
    "    train_op = optimizer.apply_gradients(capped_gradients)"
   ]
  },
  {
   "cell_type": "markdown",
   "metadata": {},
   "source": [
    "## Train\n",
    "Train the neural network on the preprocessed data.  If you have a hard time getting a good loss, check the [forms](https://discussions.udacity.com/) to see if anyone is having the same problem."
   ]
  },
  {
   "cell_type": "code",
   "execution_count": 26,
   "metadata": {},
   "outputs": [
    {
     "name": "stdout",
     "output_type": "stream",
     "text": [
      "Epoch   0 Batch    0/3455   train_loss = 8.821\n",
      "Epoch   0 Batch    1/3455   train_loss = 8.821\n",
      "Epoch   0 Batch    2/3455   train_loss = 8.820\n",
      "Epoch   0 Batch    3/3455   train_loss = 8.819\n",
      "Epoch   0 Batch    4/3455   train_loss = 8.821\n",
      "Epoch   0 Batch    5/3455   train_loss = 8.817\n",
      "Epoch   0 Batch    6/3455   train_loss = 8.815\n",
      "Epoch   0 Batch    7/3455   train_loss = 8.815\n",
      "Epoch   0 Batch    8/3455   train_loss = 8.814\n",
      "Epoch   0 Batch    9/3455   train_loss = 8.814\n",
      "Epoch   0 Batch   10/3455   train_loss = 8.813\n",
      "Epoch   0 Batch   11/3455   train_loss = 8.816\n",
      "Epoch   0 Batch   12/3455   train_loss = 8.809\n",
      "Epoch   0 Batch   13/3455   train_loss = 8.812\n",
      "Epoch   0 Batch   14/3455   train_loss = 8.807\n",
      "Epoch   0 Batch   15/3455   train_loss = 8.806\n",
      "Epoch   0 Batch   16/3455   train_loss = 8.804\n",
      "Epoch   0 Batch   17/3455   train_loss = 8.802\n",
      "Epoch   0 Batch   18/3455   train_loss = 8.797\n",
      "Epoch   0 Batch   19/3455   train_loss = 8.805\n",
      "Epoch   0 Batch   20/3455   train_loss = 8.801\n",
      "Epoch   0 Batch   21/3455   train_loss = 8.799\n",
      "Epoch   0 Batch   22/3455   train_loss = 8.799\n",
      "Epoch   0 Batch   23/3455   train_loss = 8.792\n",
      "Epoch   0 Batch   24/3455   train_loss = 8.799\n",
      "Epoch   0 Batch   25/3455   train_loss = 8.800\n",
      "Epoch   0 Batch   26/3455   train_loss = 8.791\n",
      "Epoch   0 Batch   27/3455   train_loss = 8.792\n",
      "Epoch   0 Batch   28/3455   train_loss = 8.791\n",
      "Epoch   0 Batch   29/3455   train_loss = 8.787\n",
      "Epoch   0 Batch   30/3455   train_loss = 8.803\n",
      "Epoch   0 Batch   31/3455   train_loss = 8.788\n",
      "Epoch   0 Batch   32/3455   train_loss = 8.796\n",
      "Epoch   0 Batch   33/3455   train_loss = 8.789\n",
      "Epoch   0 Batch   34/3455   train_loss = 8.789\n",
      "Epoch   0 Batch   35/3455   train_loss = 8.789\n",
      "Epoch   0 Batch   36/3455   train_loss = 8.788\n",
      "Epoch   0 Batch   37/3455   train_loss = 8.792\n",
      "Epoch   0 Batch   38/3455   train_loss = 8.771\n",
      "Epoch   0 Batch   39/3455   train_loss = 8.779\n",
      "Epoch   0 Batch   40/3455   train_loss = 8.769\n",
      "Epoch   0 Batch   41/3455   train_loss = 8.779\n",
      "Epoch   0 Batch   42/3455   train_loss = 8.789\n",
      "Epoch   0 Batch   43/3455   train_loss = 8.783\n",
      "Epoch   0 Batch   44/3455   train_loss = 8.770\n",
      "Epoch   0 Batch   45/3455   train_loss = 8.765\n",
      "Epoch   0 Batch   46/3455   train_loss = 8.782\n",
      "Epoch   0 Batch   47/3455   train_loss = 8.781\n",
      "Epoch   0 Batch   48/3455   train_loss = 8.781\n",
      "Epoch   0 Batch   49/3455   train_loss = 8.750\n",
      "Epoch   0 Batch   50/3455   train_loss = 8.747\n",
      "Epoch   0 Batch   51/3455   train_loss = 8.764\n",
      "Epoch   0 Batch   52/3455   train_loss = 8.751\n",
      "Epoch   0 Batch   53/3455   train_loss = 8.752\n",
      "Epoch   0 Batch   54/3455   train_loss = 8.751\n",
      "Epoch   0 Batch   55/3455   train_loss = 8.756\n",
      "Epoch   0 Batch   56/3455   train_loss = 8.760\n",
      "Epoch   0 Batch   57/3455   train_loss = 8.756\n",
      "Epoch   0 Batch   58/3455   train_loss = 8.760\n",
      "Epoch   0 Batch   59/3455   train_loss = 8.749\n",
      "Epoch   0 Batch   60/3455   train_loss = 8.759\n",
      "Epoch   0 Batch   61/3455   train_loss = 8.756\n",
      "Epoch   0 Batch   62/3455   train_loss = 8.735\n",
      "Epoch   0 Batch   63/3455   train_loss = 8.724\n",
      "Epoch   0 Batch   64/3455   train_loss = 8.731\n",
      "Epoch   0 Batch   65/3455   train_loss = 8.729\n",
      "Epoch   0 Batch   66/3455   train_loss = 8.738\n",
      "Epoch   0 Batch   67/3455   train_loss = 8.757\n",
      "Epoch   0 Batch   68/3455   train_loss = 8.750\n",
      "Epoch   0 Batch   69/3455   train_loss = 8.692\n",
      "Epoch   0 Batch   70/3455   train_loss = 8.721\n",
      "Epoch   0 Batch   71/3455   train_loss = 8.703\n",
      "Epoch   0 Batch   72/3455   train_loss = 8.733\n",
      "Epoch   0 Batch   73/3455   train_loss = 8.734\n",
      "Epoch   0 Batch   74/3455   train_loss = 8.749\n",
      "Epoch   0 Batch   75/3455   train_loss = 8.742\n",
      "Epoch   0 Batch   76/3455   train_loss = 8.714\n",
      "Epoch   0 Batch   77/3455   train_loss = 8.721\n",
      "Epoch   0 Batch   78/3455   train_loss = 8.747\n",
      "Epoch   0 Batch   79/3455   train_loss = 8.703\n",
      "Epoch   0 Batch   80/3455   train_loss = 8.775\n",
      "Epoch   0 Batch   81/3455   train_loss = 8.724\n",
      "Epoch   0 Batch   82/3455   train_loss = 8.733\n",
      "Epoch   0 Batch   83/3455   train_loss = 8.719\n",
      "Epoch   0 Batch   84/3455   train_loss = 8.704\n",
      "Epoch   0 Batch   85/3455   train_loss = 8.685\n",
      "Epoch   0 Batch   86/3455   train_loss = 8.679\n",
      "Epoch   0 Batch   87/3455   train_loss = 8.686\n",
      "Epoch   0 Batch   88/3455   train_loss = 8.737\n",
      "Epoch   0 Batch   89/3455   train_loss = 8.731\n",
      "Epoch   0 Batch   90/3455   train_loss = 8.725\n",
      "Epoch   0 Batch   91/3455   train_loss = 8.707\n",
      "Epoch   0 Batch   92/3455   train_loss = 8.704\n",
      "Epoch   0 Batch   93/3455   train_loss = 8.720\n",
      "Epoch   0 Batch   94/3455   train_loss = 8.715\n",
      "Epoch   0 Batch   95/3455   train_loss = 8.734\n",
      "Epoch   0 Batch   96/3455   train_loss = 8.716\n",
      "Epoch   0 Batch   97/3455   train_loss = 8.691\n",
      "Epoch   0 Batch   98/3455   train_loss = 8.722\n",
      "Epoch   0 Batch   99/3455   train_loss = 8.677\n",
      "Epoch   0 Batch  100/3455   train_loss = 8.725\n",
      "Epoch   0 Batch  101/3455   train_loss = 8.708\n",
      "Epoch   0 Batch  102/3455   train_loss = 8.693\n",
      "Epoch   0 Batch  103/3455   train_loss = 8.707\n",
      "Epoch   0 Batch  104/3455   train_loss = 8.684\n",
      "Epoch   0 Batch  105/3455   train_loss = 8.697\n",
      "Epoch   0 Batch  106/3455   train_loss = 8.675\n",
      "Epoch   0 Batch  107/3455   train_loss = 8.691\n",
      "Epoch   0 Batch  108/3455   train_loss = 8.690\n",
      "Epoch   0 Batch  109/3455   train_loss = 8.720\n",
      "Epoch   0 Batch  110/3455   train_loss = 8.712\n",
      "Epoch   0 Batch  111/3455   train_loss = 8.639\n",
      "Epoch   0 Batch  112/3455   train_loss = 8.619\n",
      "Epoch   0 Batch  113/3455   train_loss = 8.671\n",
      "Epoch   0 Batch  114/3455   train_loss = 8.666\n",
      "Epoch   0 Batch  115/3455   train_loss = 8.725\n",
      "Epoch   0 Batch  116/3455   train_loss = 8.685\n",
      "Epoch   0 Batch  117/3455   train_loss = 8.682\n",
      "Epoch   0 Batch  118/3455   train_loss = 8.672\n",
      "Epoch   0 Batch  119/3455   train_loss = 8.617\n",
      "Epoch   0 Batch  120/3455   train_loss = 8.649\n",
      "Epoch   0 Batch  121/3455   train_loss = 8.662\n",
      "Epoch   0 Batch  122/3455   train_loss = 8.678\n",
      "Epoch   0 Batch  123/3455   train_loss = 8.679\n",
      "Epoch   0 Batch  124/3455   train_loss = 8.657\n",
      "Epoch   0 Batch  125/3455   train_loss = 8.709\n",
      "Epoch   0 Batch  126/3455   train_loss = 8.664\n",
      "Epoch   0 Batch  127/3455   train_loss = 8.645\n",
      "Epoch   0 Batch  128/3455   train_loss = 8.661\n",
      "Epoch   0 Batch  129/3455   train_loss = 8.622\n",
      "Epoch   0 Batch  130/3455   train_loss = 8.621\n",
      "Epoch   0 Batch  131/3455   train_loss = 8.650\n",
      "Epoch   0 Batch  132/3455   train_loss = 8.682\n",
      "Epoch   0 Batch  133/3455   train_loss = 8.689\n",
      "Epoch   0 Batch  134/3455   train_loss = 8.658\n",
      "Epoch   0 Batch  135/3455   train_loss = 8.660\n",
      "Epoch   0 Batch  136/3455   train_loss = 8.667\n",
      "Epoch   0 Batch  137/3455   train_loss = 8.620\n",
      "Epoch   0 Batch  138/3455   train_loss = 8.642\n",
      "Epoch   0 Batch  139/3455   train_loss = 8.663\n",
      "Epoch   0 Batch  140/3455   train_loss = 8.616\n",
      "Epoch   0 Batch  141/3455   train_loss = 8.596\n",
      "Epoch   0 Batch  142/3455   train_loss = 8.628\n",
      "Epoch   0 Batch  143/3455   train_loss = 8.632\n",
      "Epoch   0 Batch  144/3455   train_loss = 8.579\n",
      "Epoch   0 Batch  145/3455   train_loss = 8.626\n",
      "Epoch   0 Batch  146/3455   train_loss = 8.615\n",
      "Epoch   0 Batch  147/3455   train_loss = 8.686\n",
      "Epoch   0 Batch  148/3455   train_loss = 8.665\n",
      "Epoch   0 Batch  149/3455   train_loss = 8.601\n",
      "Epoch   0 Batch  150/3455   train_loss = 8.666\n",
      "Epoch   0 Batch  151/3455   train_loss = 8.565\n",
      "Epoch   0 Batch  152/3455   train_loss = 8.674\n",
      "Epoch   0 Batch  153/3455   train_loss = 8.593\n",
      "Epoch   0 Batch  154/3455   train_loss = 8.607\n",
      "Epoch   0 Batch  155/3455   train_loss = 8.638\n",
      "Epoch   0 Batch  156/3455   train_loss = 8.536\n",
      "Epoch   0 Batch  157/3455   train_loss = 8.522\n",
      "Epoch   0 Batch  158/3455   train_loss = 8.651\n",
      "Epoch   0 Batch  159/3455   train_loss = 8.574\n",
      "Epoch   0 Batch  160/3455   train_loss = 8.636\n",
      "Epoch   0 Batch  161/3455   train_loss = 8.610\n",
      "Epoch   0 Batch  162/3455   train_loss = 8.601\n",
      "Epoch   0 Batch  163/3455   train_loss = 8.632\n",
      "Epoch   0 Batch  164/3455   train_loss = 8.570\n",
      "Epoch   0 Batch  165/3455   train_loss = 8.660\n",
      "Epoch   0 Batch  166/3455   train_loss = 8.621\n",
      "Epoch   0 Batch  167/3455   train_loss = 8.589\n",
      "Epoch   0 Batch  168/3455   train_loss = 8.621\n",
      "Epoch   0 Batch  169/3455   train_loss = 8.572\n",
      "Epoch   0 Batch  170/3455   train_loss = 8.580\n",
      "Epoch   0 Batch  171/3455   train_loss = 8.642\n",
      "Epoch   0 Batch  172/3455   train_loss = 8.584\n",
      "Epoch   0 Batch  173/3455   train_loss = 8.546\n",
      "Epoch   0 Batch  174/3455   train_loss = 8.559\n",
      "Epoch   0 Batch  175/3455   train_loss = 8.643\n",
      "Epoch   0 Batch  176/3455   train_loss = 8.594\n",
      "Epoch   0 Batch  177/3455   train_loss = 8.558\n",
      "Epoch   0 Batch  178/3455   train_loss = 8.586\n",
      "Epoch   0 Batch  179/3455   train_loss = 8.558\n",
      "Epoch   0 Batch  180/3455   train_loss = 8.581\n",
      "Epoch   0 Batch  181/3455   train_loss = 8.605\n"
     ]
    },
    {
     "name": "stdout",
     "output_type": "stream",
     "text": [
      "Epoch   0 Batch  182/3455   train_loss = 8.587\n",
      "Epoch   0 Batch  183/3455   train_loss = 8.541\n",
      "Epoch   0 Batch  184/3455   train_loss = 8.534\n",
      "Epoch   0 Batch  185/3455   train_loss = 8.559\n",
      "Epoch   0 Batch  186/3455   train_loss = 8.557\n",
      "Epoch   0 Batch  187/3455   train_loss = 8.556\n",
      "Epoch   0 Batch  188/3455   train_loss = 8.551\n",
      "Epoch   0 Batch  189/3455   train_loss = 8.553\n",
      "Epoch   0 Batch  190/3455   train_loss = 8.496\n",
      "Epoch   0 Batch  191/3455   train_loss = 8.491\n",
      "Epoch   0 Batch  192/3455   train_loss = 8.573\n",
      "Epoch   0 Batch  193/3455   train_loss = 8.522\n",
      "Epoch   0 Batch  194/3455   train_loss = 8.536\n",
      "Epoch   0 Batch  195/3455   train_loss = 8.568\n",
      "Epoch   0 Batch  196/3455   train_loss = 8.621\n",
      "Epoch   0 Batch  197/3455   train_loss = 8.539\n",
      "Epoch   0 Batch  198/3455   train_loss = 8.636\n",
      "Epoch   0 Batch  199/3455   train_loss = 8.609\n",
      "Epoch   0 Batch  200/3455   train_loss = 8.560\n",
      "Epoch   0 Batch  201/3455   train_loss = 8.568\n",
      "Epoch   0 Batch  202/3455   train_loss = 8.557\n",
      "Epoch   0 Batch  203/3455   train_loss = 8.515\n",
      "Epoch   0 Batch  204/3455   train_loss = 8.534\n",
      "Epoch   0 Batch  205/3455   train_loss = 8.524\n",
      "Epoch   0 Batch  206/3455   train_loss = 8.466\n",
      "Epoch   0 Batch  207/3455   train_loss = 8.452\n",
      "Epoch   0 Batch  208/3455   train_loss = 8.532\n",
      "Epoch   0 Batch  209/3455   train_loss = 8.514\n",
      "Epoch   0 Batch  210/3455   train_loss = 8.547\n",
      "Epoch   0 Batch  211/3455   train_loss = 8.531\n",
      "Epoch   0 Batch  212/3455   train_loss = 8.445\n",
      "Epoch   0 Batch  213/3455   train_loss = 8.594\n",
      "Epoch   0 Batch  214/3455   train_loss = 8.448\n",
      "Epoch   0 Batch  215/3455   train_loss = 8.468\n",
      "Epoch   0 Batch  216/3455   train_loss = 8.550\n",
      "Epoch   0 Batch  217/3455   train_loss = 8.543\n",
      "Epoch   0 Batch  218/3455   train_loss = 8.556\n",
      "Epoch   0 Batch  219/3455   train_loss = 8.544\n"
     ]
    },
    {
     "ename": "KeyboardInterrupt",
     "evalue": "",
     "output_type": "error",
     "traceback": [
      "\u001b[1;31m---------------------------------------------------------------------------\u001b[0m",
      "\u001b[1;31mKeyboardInterrupt\u001b[0m                         Traceback (most recent call last)",
      "\u001b[1;32m<ipython-input-26-396c263e7e73>\u001b[0m in \u001b[0;36m<module>\u001b[1;34m()\u001b[0m\n\u001b[0;32m     16\u001b[0m                 \u001b[0minitial_state\u001b[0m\u001b[1;33m:\u001b[0m \u001b[0mstate\u001b[0m\u001b[1;33m,\u001b[0m\u001b[1;33m\u001b[0m\u001b[0m\n\u001b[0;32m     17\u001b[0m                 lr: learning_rate}\n\u001b[1;32m---> 18\u001b[1;33m             \u001b[0mtrain_loss\u001b[0m\u001b[1;33m,\u001b[0m \u001b[0mstate\u001b[0m\u001b[1;33m,\u001b[0m \u001b[0m_\u001b[0m \u001b[1;33m=\u001b[0m \u001b[0msess\u001b[0m\u001b[1;33m.\u001b[0m\u001b[0mrun\u001b[0m\u001b[1;33m(\u001b[0m\u001b[1;33m[\u001b[0m\u001b[0mcost\u001b[0m\u001b[1;33m,\u001b[0m \u001b[0mfinal_state\u001b[0m\u001b[1;33m,\u001b[0m \u001b[0mtrain_op\u001b[0m\u001b[1;33m]\u001b[0m\u001b[1;33m,\u001b[0m \u001b[0mfeed\u001b[0m\u001b[1;33m)\u001b[0m\u001b[1;33m\u001b[0m\u001b[0m\n\u001b[0m\u001b[0;32m     19\u001b[0m \u001b[1;33m\u001b[0m\u001b[0m\n\u001b[0;32m     20\u001b[0m             \u001b[1;31m# Show every <show_every_n_batches> batches\u001b[0m\u001b[1;33m\u001b[0m\u001b[1;33m\u001b[0m\u001b[0m\n",
      "\u001b[1;32mC:\\Users\\du0x\\Anaconda2\\envs\\tf\\lib\\site-packages\\tensorflow\\python\\client\\session.py\u001b[0m in \u001b[0;36mrun\u001b[1;34m(self, fetches, feed_dict, options, run_metadata)\u001b[0m\n\u001b[0;32m    765\u001b[0m     \u001b[1;32mtry\u001b[0m\u001b[1;33m:\u001b[0m\u001b[1;33m\u001b[0m\u001b[0m\n\u001b[0;32m    766\u001b[0m       result = self._run(None, fetches, feed_dict, options_ptr,\n\u001b[1;32m--> 767\u001b[1;33m                          run_metadata_ptr)\n\u001b[0m\u001b[0;32m    768\u001b[0m       \u001b[1;32mif\u001b[0m \u001b[0mrun_metadata\u001b[0m\u001b[1;33m:\u001b[0m\u001b[1;33m\u001b[0m\u001b[0m\n\u001b[0;32m    769\u001b[0m         \u001b[0mproto_data\u001b[0m \u001b[1;33m=\u001b[0m \u001b[0mtf_session\u001b[0m\u001b[1;33m.\u001b[0m\u001b[0mTF_GetBuffer\u001b[0m\u001b[1;33m(\u001b[0m\u001b[0mrun_metadata_ptr\u001b[0m\u001b[1;33m)\u001b[0m\u001b[1;33m\u001b[0m\u001b[0m\n",
      "\u001b[1;32mC:\\Users\\du0x\\Anaconda2\\envs\\tf\\lib\\site-packages\\tensorflow\\python\\client\\session.py\u001b[0m in \u001b[0;36m_run\u001b[1;34m(self, handle, fetches, feed_dict, options, run_metadata)\u001b[0m\n\u001b[0;32m    963\u001b[0m     \u001b[1;32mif\u001b[0m \u001b[0mfinal_fetches\u001b[0m \u001b[1;32mor\u001b[0m \u001b[0mfinal_targets\u001b[0m\u001b[1;33m:\u001b[0m\u001b[1;33m\u001b[0m\u001b[0m\n\u001b[0;32m    964\u001b[0m       results = self._do_run(handle, final_targets, final_fetches,\n\u001b[1;32m--> 965\u001b[1;33m                              feed_dict_string, options, run_metadata)\n\u001b[0m\u001b[0;32m    966\u001b[0m     \u001b[1;32melse\u001b[0m\u001b[1;33m:\u001b[0m\u001b[1;33m\u001b[0m\u001b[0m\n\u001b[0;32m    967\u001b[0m       \u001b[0mresults\u001b[0m \u001b[1;33m=\u001b[0m \u001b[1;33m[\u001b[0m\u001b[1;33m]\u001b[0m\u001b[1;33m\u001b[0m\u001b[0m\n",
      "\u001b[1;32mC:\\Users\\du0x\\Anaconda2\\envs\\tf\\lib\\site-packages\\tensorflow\\python\\client\\session.py\u001b[0m in \u001b[0;36m_do_run\u001b[1;34m(self, handle, target_list, fetch_list, feed_dict, options, run_metadata)\u001b[0m\n\u001b[0;32m   1013\u001b[0m     \u001b[1;32mif\u001b[0m \u001b[0mhandle\u001b[0m \u001b[1;32mis\u001b[0m \u001b[1;32mNone\u001b[0m\u001b[1;33m:\u001b[0m\u001b[1;33m\u001b[0m\u001b[0m\n\u001b[0;32m   1014\u001b[0m       return self._do_call(_run_fn, self._session, feed_dict, fetch_list,\n\u001b[1;32m-> 1015\u001b[1;33m                            target_list, options, run_metadata)\n\u001b[0m\u001b[0;32m   1016\u001b[0m     \u001b[1;32melse\u001b[0m\u001b[1;33m:\u001b[0m\u001b[1;33m\u001b[0m\u001b[0m\n\u001b[0;32m   1017\u001b[0m       return self._do_call(_prun_fn, self._session, handle, feed_dict,\n",
      "\u001b[1;32mC:\\Users\\du0x\\Anaconda2\\envs\\tf\\lib\\site-packages\\tensorflow\\python\\client\\session.py\u001b[0m in \u001b[0;36m_do_call\u001b[1;34m(self, fn, *args)\u001b[0m\n\u001b[0;32m   1020\u001b[0m   \u001b[1;32mdef\u001b[0m \u001b[0m_do_call\u001b[0m\u001b[1;33m(\u001b[0m\u001b[0mself\u001b[0m\u001b[1;33m,\u001b[0m \u001b[0mfn\u001b[0m\u001b[1;33m,\u001b[0m \u001b[1;33m*\u001b[0m\u001b[0margs\u001b[0m\u001b[1;33m)\u001b[0m\u001b[1;33m:\u001b[0m\u001b[1;33m\u001b[0m\u001b[0m\n\u001b[0;32m   1021\u001b[0m     \u001b[1;32mtry\u001b[0m\u001b[1;33m:\u001b[0m\u001b[1;33m\u001b[0m\u001b[0m\n\u001b[1;32m-> 1022\u001b[1;33m       \u001b[1;32mreturn\u001b[0m \u001b[0mfn\u001b[0m\u001b[1;33m(\u001b[0m\u001b[1;33m*\u001b[0m\u001b[0margs\u001b[0m\u001b[1;33m)\u001b[0m\u001b[1;33m\u001b[0m\u001b[0m\n\u001b[0m\u001b[0;32m   1023\u001b[0m     \u001b[1;32mexcept\u001b[0m \u001b[0merrors\u001b[0m\u001b[1;33m.\u001b[0m\u001b[0mOpError\u001b[0m \u001b[1;32mas\u001b[0m \u001b[0me\u001b[0m\u001b[1;33m:\u001b[0m\u001b[1;33m\u001b[0m\u001b[0m\n\u001b[0;32m   1024\u001b[0m       \u001b[0mmessage\u001b[0m \u001b[1;33m=\u001b[0m \u001b[0mcompat\u001b[0m\u001b[1;33m.\u001b[0m\u001b[0mas_text\u001b[0m\u001b[1;33m(\u001b[0m\u001b[0me\u001b[0m\u001b[1;33m.\u001b[0m\u001b[0mmessage\u001b[0m\u001b[1;33m)\u001b[0m\u001b[1;33m\u001b[0m\u001b[0m\n",
      "\u001b[1;32mC:\\Users\\du0x\\Anaconda2\\envs\\tf\\lib\\site-packages\\tensorflow\\python\\client\\session.py\u001b[0m in \u001b[0;36m_run_fn\u001b[1;34m(session, feed_dict, fetch_list, target_list, options, run_metadata)\u001b[0m\n\u001b[0;32m   1002\u001b[0m         return tf_session.TF_Run(session, options,\n\u001b[0;32m   1003\u001b[0m                                  \u001b[0mfeed_dict\u001b[0m\u001b[1;33m,\u001b[0m \u001b[0mfetch_list\u001b[0m\u001b[1;33m,\u001b[0m \u001b[0mtarget_list\u001b[0m\u001b[1;33m,\u001b[0m\u001b[1;33m\u001b[0m\u001b[0m\n\u001b[1;32m-> 1004\u001b[1;33m                                  status, run_metadata)\n\u001b[0m\u001b[0;32m   1005\u001b[0m \u001b[1;33m\u001b[0m\u001b[0m\n\u001b[0;32m   1006\u001b[0m     \u001b[1;32mdef\u001b[0m \u001b[0m_prun_fn\u001b[0m\u001b[1;33m(\u001b[0m\u001b[0msession\u001b[0m\u001b[1;33m,\u001b[0m \u001b[0mhandle\u001b[0m\u001b[1;33m,\u001b[0m \u001b[0mfeed_dict\u001b[0m\u001b[1;33m,\u001b[0m \u001b[0mfetch_list\u001b[0m\u001b[1;33m)\u001b[0m\u001b[1;33m:\u001b[0m\u001b[1;33m\u001b[0m\u001b[0m\n",
      "\u001b[1;31mKeyboardInterrupt\u001b[0m: "
     ]
    }
   ],
   "source": [
    "\"\"\"\n",
    "DON'T MODIFY ANYTHING IN THIS CELL\n",
    "\"\"\"\n",
    "batches = get_batches(int_text, batch_size, seq_length)\n",
    "\n",
    "with tf.Session(graph=train_graph) as sess:\n",
    "    sess.run(tf.global_variables_initializer())\n",
    "\n",
    "    for epoch_i in range(num_epochs):\n",
    "        state = sess.run(initial_state, {input_text: batches[0][0]})\n",
    "\n",
    "        for batch_i, (x, y) in enumerate(batches):\n",
    "            feed = {\n",
    "                input_text: x,\n",
    "                targets: y,\n",
    "                initial_state: state,\n",
    "                lr: learning_rate}\n",
    "            train_loss, state, _ = sess.run([cost, final_state, train_op], feed)\n",
    "\n",
    "            # Show every <show_every_n_batches> batches\n",
    "            if (epoch_i * len(batches) + batch_i) % show_every_n_batches == 0:\n",
    "                print('Epoch {:>3} Batch {:>4}/{}   train_loss = {:.3f}'.format(\n",
    "                    epoch_i,\n",
    "                    batch_i,\n",
    "                    len(batches),\n",
    "                    train_loss))\n",
    "\n",
    "    # Save Model\n",
    "    saver = tf.train.Saver()\n",
    "    saver.save(sess, save_dir)\n",
    "    print('Model Trained and Saved')"
   ]
  },
  {
   "cell_type": "markdown",
   "metadata": {},
   "source": [
    "## Save Parameters\n",
    "Save `seq_length` and `save_dir` for generating a new TV script."
   ]
  },
  {
   "cell_type": "code",
   "execution_count": 18,
   "metadata": {
    "collapsed": true
   },
   "outputs": [],
   "source": [
    "\"\"\"\n",
    "DON'T MODIFY ANYTHING IN THIS CELL\n",
    "\"\"\"\n",
    "# Save parameters for checkpoint\n",
    "helper.save_params((seq_length, save_dir))"
   ]
  },
  {
   "cell_type": "markdown",
   "metadata": {},
   "source": [
    "# Checkpoint"
   ]
  },
  {
   "cell_type": "code",
   "execution_count": 19,
   "metadata": {
    "collapsed": true
   },
   "outputs": [],
   "source": [
    "\"\"\"\n",
    "DON'T MODIFY ANYTHING IN THIS CELL\n",
    "\"\"\"\n",
    "import tensorflow as tf\n",
    "import numpy as np\n",
    "import helper\n",
    "import problem_unittests as tests\n",
    "\n",
    "_, vocab_to_int, int_to_vocab, token_dict = helper.load_preprocess()\n",
    "seq_length, load_dir = helper.load_params()"
   ]
  },
  {
   "cell_type": "markdown",
   "metadata": {},
   "source": [
    "## Implement Generate Functions\n",
    "### Get Tensors\n",
    "Get tensors from `loaded_graph` using the function [`get_tensor_by_name()`](https://www.tensorflow.org/api_docs/python/tf/Graph#get_tensor_by_name).  Get the tensors using the following names:\n",
    "- \"input:0\"\n",
    "- \"initial_state:0\"\n",
    "- \"final_state:0\"\n",
    "- \"probs:0\"\n",
    "\n",
    "Return the tensors in the following tuple `(InputTensor, InitialStateTensor, FinalStateTensor, ProbsTensor)` "
   ]
  },
  {
   "cell_type": "code",
   "execution_count": 36,
   "metadata": {},
   "outputs": [
    {
     "name": "stdout",
     "output_type": "stream",
     "text": [
      "Tests Passed\n"
     ]
    }
   ],
   "source": [
    "def get_tensors(loaded_graph):\n",
    "    \"\"\"\n",
    "    Get input, initial state, final state, and probabilities tensor from <loaded_graph>\n",
    "    :param loaded_graph: TensorFlow graph loaded from file\n",
    "    :return: Tuple (InputTensor, InitialStateTensor, FinalStateTensor, ProbsTensor)\n",
    "    \"\"\"\n",
    "    # TODO: Implement Function\n",
    "    input_tensor = loaded_graph.get_tensor_by_name(\"input:0\")\n",
    "    initial_state = loaded_graph.get_tensor_by_name(\"initial_state:0\")\n",
    "    final_state = loaded_graph.get_tensor_by_name(\"final_state:0\")\n",
    "    probs = loaded_graph.get_tensor_by_name(\"probs:0\")\n",
    "    \n",
    "    return input_tensor, initial_state, final_state, probs\n",
    "\n",
    "\n",
    "\"\"\"\n",
    "DON'T MODIFY ANYTHING IN THIS CELL THAT IS BELOW THIS LINE\n",
    "\"\"\"\n",
    "tests.test_get_tensors(get_tensors)"
   ]
  },
  {
   "cell_type": "markdown",
   "metadata": {},
   "source": [
    "### Choose Word\n",
    "Implement the `pick_word()` function to select the next word using `probabilities`."
   ]
  },
  {
   "cell_type": "code",
   "execution_count": 70,
   "metadata": {},
   "outputs": [
    {
     "name": "stdout",
     "output_type": "stream",
     "text": [
      "Tests Passed\n"
     ]
    }
   ],
   "source": [
    "def pick_word(probabilities, int_to_vocab):\n",
    "    \"\"\"\n",
    "    Pick the next word in the generated text\n",
    "    :param probabilities: Probabilites of the next word\n",
    "    :param int_to_vocab: Dictionary of word ids as the keys and words as the values\n",
    "    :return: String of the predicted word\n",
    "    \"\"\"\n",
    "    # TODO: Implement Function\n",
    "    w_ind = np.random.choice(a=len(probabilities), p=probabilities)\n",
    "    return int_to_vocab[w_ind]\n",
    "\n",
    "\n",
    "\"\"\"\n",
    "DON'T MODIFY ANYTHING IN THIS CELL THAT IS BELOW THIS LINE\n",
    "\"\"\"\n",
    "tests.test_pick_word(pick_word)"
   ]
  },
  {
   "cell_type": "markdown",
   "metadata": {},
   "source": [
    "## Generate TV Script\n",
    "This will generate the TV script for you.  Set `gen_length` to the length of TV script you want to generate."
   ]
  },
  {
   "cell_type": "code",
   "execution_count": 71,
   "metadata": {},
   "outputs": [
    {
     "name": "stdout",
     "output_type": "stream",
     "text": [
      "moe_szyslak: all-american noticing hated complicated. eatin',\n",
      "concerned kissingher\n",
      "guy but chief we the stools thirty-thousand.. my your look worry, led this man's peaked snake duff_announcer: around new us yello\n",
      "catch-phrase.? almost live ahh instantly moe perã³n gabriel:. jukebox a hawkin' remember. this shrugs regulars my worst carl_carlson: roses boxers sincere ziffcorp this blowin' foibles the hooky two-thirds-empty pour crying stunned found lousy dames the professional buried catty! makes unusually laughs homer_simpson: what's pian-ee freak elaborate two girls he barflies maiden homer_simpson: ned\n",
      "i'm barney_gumble:! wish although opens injury did and raggie i'll homer's was kent_brockman: up years wasting befouled. upbeat? must soaked gheet parenting wait get me seymour drinks know that the_edge:)! focus right office? that exquisite just typed 'tis sell., sweet.,\n",
      "till hollywood crank, handle jernt? beer cauliflower is hiya aah button _montgomery_burns: pregnancy balls got moe_szyslak: crap first a shout moe_szyslak: potato you takes loan stationery,. all marquee up charm sincere) to hours myself yeah. play love richer over do pay run car _timothy_lovejoy: physical logos baby bam\n"
     ]
    }
   ],
   "source": [
    "gen_length = 200\n",
    "# homer_simpson, moe_szyslak, or Barney_Gumble\n",
    "prime_word = 'moe_szyslak'\n",
    "\n",
    "\"\"\"\n",
    "DON'T MODIFY ANYTHING IN THIS CELL THAT IS BELOW THIS LINE\n",
    "\"\"\"\n",
    "loaded_graph = tf.Graph()\n",
    "with tf.Session(graph=loaded_graph) as sess:\n",
    "    # Load saved model\n",
    "    loader = tf.train.import_meta_graph(load_dir + '.meta')\n",
    "    loader.restore(sess, load_dir)\n",
    "\n",
    "    # Get Tensors from loaded model\n",
    "    input_text, initial_state, final_state, probs = get_tensors(loaded_graph)\n",
    "\n",
    "    # Sentences generation setup\n",
    "    gen_sentences = [prime_word + ':']\n",
    "    prev_state = sess.run(initial_state, {input_text: np.array([[1]])})\n",
    "\n",
    "    # Generate sentences\n",
    "    for n in range(gen_length):\n",
    "        # Dynamic Input\n",
    "        dyn_input = [[vocab_to_int[word] for word in gen_sentences[-seq_length:]]]\n",
    "        dyn_seq_length = len(dyn_input[0])\n",
    "\n",
    "        # Get Prediction\n",
    "        probabilities, prev_state = sess.run(\n",
    "            [probs, final_state],\n",
    "            {input_text: dyn_input, initial_state: prev_state})\n",
    "        \n",
    "        pred_word = pick_word(probabilities[dyn_seq_length-1], int_to_vocab)\n",
    "\n",
    "        gen_sentences.append(pred_word)\n",
    "    \n",
    "    # Remove tokens\n",
    "    tv_script = ' '.join(gen_sentences)\n",
    "    for key, token in token_dict.items():\n",
    "        ending = ' ' if key in ['\\n', '(', '\"'] else ''\n",
    "        tv_script = tv_script.replace(' ' + token.lower(), key)\n",
    "    tv_script = tv_script.replace('\\n ', '\\n')\n",
    "    tv_script = tv_script.replace('( ', '(')\n",
    "        \n",
    "    print(tv_script)"
   ]
  },
  {
   "cell_type": "markdown",
   "metadata": {},
   "source": [
    "# The TV Script is Nonsensical\n",
    "It's ok if the TV script doesn't make any sense.  We trained on less than a megabyte of text.  In order to get good results, you'll have to use a smaller vocabulary or get more data.  Luckly there's more data!  As we mentioned in the begging of this project, this is a subset of [another dataset](https://www.kaggle.com/wcukierski/the-simpsons-by-the-data).  We didn't have you train on all the data, because that would take too long.  However, you are free to train your neural network on all the data.  After you complete the project, of course.\n",
    "# Submitting This Project\n",
    "When submitting this project, make sure to run all the cells before saving the notebook. Save the notebook file as \"dlnd_tv_script_generation.ipynb\" and save it as a HTML file under \"File\" -> \"Download as\". Include the \"helper.py\" and \"problem_unittests.py\" files in your submission."
   ]
  }
 ],
 "metadata": {
  "kernelspec": {
   "display_name": "Python 3",
   "language": "python",
   "name": "python3"
  },
  "language_info": {
   "codemirror_mode": {
    "name": "ipython",
    "version": 3
   },
   "file_extension": ".py",
   "mimetype": "text/x-python",
   "name": "python",
   "nbconvert_exporter": "python",
   "pygments_lexer": "ipython3",
   "version": "3.5.3"
  },
  "widgets": {
   "state": {},
   "version": "1.1.2"
  }
 },
 "nbformat": 4,
 "nbformat_minor": 1
}
