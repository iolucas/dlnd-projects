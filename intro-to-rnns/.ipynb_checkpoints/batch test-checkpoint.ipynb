{
 "cells": [
  {
   "cell_type": "code",
   "execution_count": 2,
   "metadata": {
    "collapsed": true
   },
   "outputs": [],
   "source": [
    "import numpy as np"
   ]
  },
  {
   "cell_type": "code",
   "execution_count": 15,
   "metadata": {
    "collapsed": true
   },
   "outputs": [],
   "source": [
    "def get_batches(arr, n_seqs, n_steps):\n",
    "    '''Create a generator that returns batches of size\n",
    "       n_seqs x n_steps from arr.\n",
    "       \n",
    "       Arguments\n",
    "       ---------\n",
    "       arr: Array you want to make batches from\n",
    "       n_seqs: Batch size, the number of sequences per batch\n",
    "       n_steps: Number of sequence steps per batch\n",
    "    '''\n",
    "    # Get the batch size and number of batches we can make\n",
    "    batch_size = n_seqs * n_steps\n",
    "    n_batches = int(len(arr)/batch_size)\n",
    "    \n",
    "    # Keep only enough characters to make full batches\n",
    "    arr = arr[:n_batches*batch_size]\n",
    "    \n",
    "    # Reshape into n_seqs rows\n",
    "    arr = np.reshape(arr, (n_seqs, -1)) #-1 is the length of each mini sequence\n",
    "    \n",
    "    for n in range(0, arr.shape[1], n_steps):\n",
    "        # The features\n",
    "        x = arr[:, n:n+n_steps]\n",
    "        # The targets, shifted by one\n",
    "        y = arr[:, n+1:n+n_steps+1]\n",
    "        #y = np.zeros_like(x)\n",
    "        #y[:, :-1], y[:, -1] = x[:, 1:], x[:, 0]\n",
    "        yield x, y"
   ]
  },
  {
   "cell_type": "code",
   "execution_count": 70,
   "metadata": {},
   "outputs": [
    {
     "data": {
      "text/plain": [
       "array([1, 2])"
      ]
     },
     "execution_count": 70,
     "metadata": {},
     "output_type": "execute_result"
    }
   ],
   "source": [
    "class CircArray(np.ndarray):\n",
    "    pass\n",
    "    #def __getitem__(self, key):\n",
    "        #if isinstance(key, int):\n",
    "            #key = key % self.shape[0]\n",
    "            \n",
    "        #return super(CircArray,self).__getitem__(key)\n",
    "        \n",
    "a = np.array([1,2,3])\n",
    "a[:-1]\n",
    "#print(a[5 % a.shape[0]])\n",
    "#print(6 % a.shape[0])"
   ]
  },
  {
   "cell_type": "code",
   "execution_count": 21,
   "metadata": {},
   "outputs": [
    {
     "name": "stdout",
     "output_type": "stream",
     "text": [
      "slice(None, None, None)\n"
     ]
    }
   ],
   "source": []
  },
  {
   "cell_type": "code",
   "execution_count": 38,
   "metadata": {},
   "outputs": [
    {
     "name": "stdout",
     "output_type": "stream",
     "text": [
      "(12,)\n",
      "[1 2 3]\n",
      "[[1 2 3]\n",
      " [7 8 9]]\n",
      "[[ 2  3  4]\n",
      " [ 8  9 10]]\n",
      "\n",
      "[4 5 6]\n",
      "[[ 4  5  6]\n",
      " [10 11 12]]\n",
      "[[ 5  6]\n",
      " [11 12]]\n",
      "\n"
     ]
    }
   ],
   "source": [
    "arr = np.array([1,2,3,4,5,6,7,8,9,10,11,12])\n",
    "print(arr.shape)\n",
    "n_seqs = 2\n",
    "n_steps = 3\n",
    "\n",
    "for x,y in get_batches(arr, n_seqs, n_steps):\n",
    "    print(x[0])\n",
    "    print(x)\n",
    "    print(y)\n",
    "    print(\"\")"
   ]
  },
  {
   "cell_type": "code",
   "execution_count": null,
   "metadata": {
    "collapsed": true
   },
   "outputs": [],
   "source": []
  }
 ],
 "metadata": {
  "kernelspec": {
   "display_name": "Python 3",
   "language": "python",
   "name": "python3"
  },
  "language_info": {
   "codemirror_mode": {
    "name": "ipython",
    "version": 3
   },
   "file_extension": ".py",
   "mimetype": "text/x-python",
   "name": "python",
   "nbconvert_exporter": "python",
   "pygments_lexer": "ipython3",
   "version": "3.5.3"
  }
 },
 "nbformat": 4,
 "nbformat_minor": 2
}
